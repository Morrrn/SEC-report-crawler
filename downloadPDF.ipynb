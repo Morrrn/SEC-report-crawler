{
 "cells": [
  {
   "cell_type": "code",
   "execution_count": 1,
   "id": "6f0b27ef",
   "metadata": {},
   "outputs": [],
   "source": [
    "import urllib.request\n",
    "import urllib.parse\n",
    "import urllib\n",
    "import requests\n",
    "import json\n",
    "import sys\n",
    "import os\n"
   ]
  },
  {
   "cell_type": "code",
   "execution_count": 2,
   "id": "ee083680",
   "metadata": {},
   "outputs": [],
   "source": [
    "url = \"http://www.szse.cn/api/disc/announcement/annList?random=0.016451923639533295\"\n",
    "\n",
    "headers = {\n",
    "    'Accept': 'application/json, text/javascript, */*; q=0.01',\n",
    "    'Accept-Encoding': 'gzip, deflate',\n",
    "    'Accept-Language': 'zh-CN,zh;q=0.9',\n",
    "    'Connection': 'keep-alive',\n",
    "    'Content-Type': 'application/json',\n",
    "    'HOST': 'www.szse.cn',\n",
    "    'Origin': 'http://www.szse.cn',\n",
    "    'Referer': 'http://www.szse.cn/disclosure/listed/notice/index.html',\n",
    "    # 'User-Agent':'Mozilla/5.0 (Macintosh; Intel Mac OS X 10_15_7) AppleWebKit/537.36 (KHTML, like Gecko) Chrome/121.0.0.0 Safari/537.36',\n",
    "    'User-Agent': 'Mozilla/5.0 (Windows NT 6.1; Win64; x64) AppleWebKit/537.36 (KHTML, like Gecko) Chrome/75.0.3770.100 Safari/537.36',\n",
    "    'X-Request-Type': 'ajax',\n",
    "    'X-Requested-With': 'XMLHttpRequest'\n",
    "}\n",
    "\n",
    "bigCategoryId = [\"010301\"]\n",
    "bigIndustryCode = [\"C\"]\n",
    "channelCode = [\"listedNotice_disc\"]\n",
    "plateCode = [\"11\"]\n",
    "seDate = [\"\", \"\"]\n",
    "pageNum = 2 # 要抓取第几页的信息\n",
    "pageSize = 50\n",
    "\n",
    "params = {\n",
    "    'seDate': seDate,\n",
    "    'bigCategoryId': bigCategoryId,\n",
    "    'bigIndustryCode': bigIndustryCode,\n",
    "    'channelCode': channelCode,\n",
    "    'pageNum': pageNum,\n",
    "    'pageSize': pageSize,\n",
    "    'plateCode': plateCode\n",
    "}\n"
   ]
  },
  {
   "cell_type": "code",
   "execution_count": 3,
   "id": "07d4620a",
   "metadata": {},
   "outputs": [],
   "source": [
    "request = urllib.request.Request(url=url,headers=headers)\n",
    "formdata = json.dumps(params).encode() # urllib.parse.urlencode(params).encode()\n",
    "response = urllib.request.urlopen(request, formdata)\n",
    "res_list = response.read().decode()\n",
    "res = json.loads(res_list)\n",
    "\n"
   ]
  },
  {
   "cell_type": "code",
   "execution_count": 4,
   "id": "e4a14c8d",
   "metadata": {},
   "outputs": [
    {
     "name": "stdout",
     "output_type": "stream",
     "text": [
      "{'announceCount': 32032, 'data': [{'id': '2ddc04cf-7638-413e-a7a0-cfac71319f96', 'annId': 1217301346, 'title': '东南网架：浙江东南网架股份有限公司2022年年度报告（更新后）', 'content': None, 'publishTime': '2023-07-15 00:00:00', 'attachPath': '/disc/disk03/finalpage/2023-07-15/481f46f8-7e76-4e80-a012-bb2c8eab5c25.PDF', 'attachFormat': 'PDF', 'attachSize': 3244, 'secCode': ['002135'], 'secName': ['东南网架'], 'bondType': None, 'bigIndustryCode': None, 'bigCategoryId': None, 'smallCategoryId': None, 'channelCode': None, '_index': 'ows_disclosure-20180825'}, {'id': '9f728b3a-cb4e-4899-b62f-bee8d3a4b399', 'annId': 1217299514, 'title': '巨星科技：杭州巨星科技股份有限公司2022年年度报告（更新后）', 'content': None, 'publishTime': '2023-07-15 00:00:00', 'attachPath': '/disc/disk03/finalpage/2023-07-15/cbef9594-9aef-4258-a8b6-ffd424afb191.PDF', 'attachFormat': 'PDF', 'attachSize': 5815, 'secCode': ['002444'], 'secName': ['巨星科技'], 'bondType': None, 'bigIndustryCode': None, 'bigCategoryId': None, 'smallCategoryId': None, 'channelCode': None, '_index': 'ows_disclosure-20180825'}, {'id': 'f92cda10-73f9-46d6-9db7-7e2173f6d1a1', 'annId': 1217293168, 'title': '沈阳化工：沈阳化工2022年年度报告全文（更正后）', 'content': None, 'publishTime': '2023-07-14 00:00:00', 'attachPath': '/disc/disk03/finalpage/2023-07-14/485ac835-7793-42a9-bae6-dce3fc4d14c3.PDF', 'attachFormat': 'PDF', 'attachSize': 3615, 'secCode': ['000698'], 'secName': ['沈阳化工'], 'bondType': None, 'bigIndustryCode': None, 'bigCategoryId': None, 'smallCategoryId': None, 'channelCode': None, '_index': 'ows_disclosure-20180825'}, {'id': '84651a6b-59ec-4ff9-8ec6-e2ac4abc43d2', 'annId': 1217283824, 'title': '赛象科技：2022年年度报告（更正后）', 'content': None, 'publishTime': '2023-07-13 00:00:00', 'attachPath': '/disc/disk03/finalpage/2023-07-13/fc16a0ed-4950-4b58-9ccf-1784f2b4dcb8.PDF', 'attachFormat': 'PDF', 'attachSize': 4225, 'secCode': ['002337'], 'secName': ['赛象科技'], 'bondType': None, 'bigIndustryCode': None, 'bigCategoryId': None, 'smallCategoryId': None, 'channelCode': None, '_index': 'ows_disclosure-20180825'}, {'id': '6ea007f9-3dea-439e-b085-12f13c7467f9', 'annId': 1217282333, 'title': '威领股份：2022年年度报告（更正后）', 'content': None, 'publishTime': '2023-07-13 00:00:00', 'attachPath': '/disc/disk03/finalpage/2023-07-13/7b8bf362-749e-4ad1-8904-912d29e2e934.PDF', 'attachFormat': 'PDF', 'attachSize': 3279, 'secCode': ['002667'], 'secName': ['威领股份'], 'bondType': None, 'bigIndustryCode': None, 'bigCategoryId': None, 'smallCategoryId': None, 'channelCode': None, '_index': 'ows_disclosure-20180825'}, {'id': '43cc555b-0cbb-4d92-ad10-09c07f49afa3', 'annId': 1217263753, 'title': '众泰汽车：众泰汽车股份有限公司2022年年度报告', 'content': None, 'publishTime': '2023-07-11 00:00:00', 'attachPath': '/disc/disk03/finalpage/2023-07-11/e2b9fc99-262d-4fc5-97f4-d6e9222e3d9d.PDF', 'attachFormat': 'PDF', 'attachSize': 4327, 'secCode': ['000980'], 'secName': ['众泰汽车'], 'bondType': None, 'bigIndustryCode': None, 'bigCategoryId': None, 'smallCategoryId': None, 'channelCode': None, '_index': 'ows_disclosure-20180825'}, {'id': 'ce605c76-a7d7-40a2-acd4-7929552cda18', 'annId': 1217235721, 'title': '宁波东力：2022年年度报告（更新后）', 'content': None, 'publishTime': '2023-07-08 00:00:00', 'attachPath': '/disc/disk03/finalpage/2023-07-08/cedd7f03-4ad0-4289-9e9d-c16719c91d85.PDF', 'attachFormat': 'PDF', 'attachSize': 2599, 'secCode': ['002164'], 'secName': ['宁波东力'], 'bondType': None, 'bigIndustryCode': None, 'bigCategoryId': None, 'smallCategoryId': None, 'channelCode': None, '_index': 'ows_disclosure-20180825'}, {'id': '12d64723-5187-444e-9e0b-aba3b1995362', 'annId': 1217227397, 'title': '万安科技：浙江万安科技股份有限公司2022年年度报告（更新后）', 'content': None, 'publishTime': '2023-07-07 00:00:00', 'attachPath': '/disc/disk03/finalpage/2023-07-07/0d101b7d-a495-4ea9-a1b6-426f7f146996.PDF', 'attachFormat': 'PDF', 'attachSize': 4866, 'secCode': ['002590'], 'secName': ['万安科技'], 'bondType': None, 'bigIndustryCode': None, 'bigCategoryId': None, 'smallCategoryId': None, 'channelCode': None, '_index': 'ows_disclosure-20180825'}, {'id': '92013a0e-f43c-4516-85fe-8efabcae404f', 'annId': 1217218010, 'title': 'ST步森：2022年年度报告（补充更正后）', 'content': None, 'publishTime': '2023-07-06 00:00:00', 'attachPath': '/disc/disk03/finalpage/2023-07-06/3bfc1d56-a429-4d07-98c3-314ed43dbfbb.PDF', 'attachFormat': 'PDF', 'attachSize': 4939, 'secCode': ['002569'], 'secName': ['ST步森'], 'bondType': None, 'bigIndustryCode': None, 'bigCategoryId': None, 'smallCategoryId': None, 'channelCode': None, '_index': 'ows_disclosure-20180825'}, {'id': '7736313b-e51f-4e08-b86b-b01a77d0ceed', 'annId': 1217209597, 'title': '威海广泰：2021年年度报告摘要（更正后）', 'content': None, 'publishTime': '2023-07-05 00:00:00', 'attachPath': '/disc/disk03/finalpage/2023-07-05/2f01eb5a-7548-480e-9103-a650a90d7e3b.PDF', 'attachFormat': 'PDF', 'attachSize': 449, 'secCode': ['002111'], 'secName': ['威海广泰'], 'bondType': None, 'bigIndustryCode': None, 'bigCategoryId': None, 'smallCategoryId': None, 'channelCode': None, '_index': 'ows_disclosure-20180825'}, {'id': '66a58fe0-8a16-46d3-8f3c-2b873051446e', 'annId': 1217209607, 'title': '威海广泰：2021年年度报告全文（更正后）', 'content': None, 'publishTime': '2023-07-05 00:00:00', 'attachPath': '/disc/disk03/finalpage/2023-07-05/c50b3510-3a70-40a6-94b3-208d287fa3e1.PDF', 'attachFormat': 'PDF', 'attachSize': 6318, 'secCode': ['002111'], 'secName': ['威海广泰'], 'bondType': None, 'bigIndustryCode': None, 'bigCategoryId': None, 'smallCategoryId': None, 'channelCode': None, '_index': 'ows_disclosure-20180825'}, {'id': '2987c10e-076d-47b5-a3ac-e57de85baf0b', 'annId': 1217209604, 'title': '威海广泰：2020年年度报告摘要（更正后）', 'content': None, 'publishTime': '2023-07-05 00:00:00', 'attachPath': '/disc/disk03/finalpage/2023-07-05/59cf30ba-8f07-44e8-a831-3e6d3b4a6a15.PDF', 'attachFormat': 'PDF', 'attachSize': 1218, 'secCode': ['002111'], 'secName': ['威海广泰'], 'bondType': None, 'bigIndustryCode': None, 'bigCategoryId': None, 'smallCategoryId': None, 'channelCode': None, '_index': 'ows_disclosure-20180825'}, {'id': '1ed2cc12-76d1-44f3-9b01-97c40cfc11fd', 'annId': 1217209605, 'title': '威海广泰：2020年年度报告全文（更正后）', 'content': None, 'publishTime': '2023-07-05 00:00:00', 'attachPath': '/disc/disk03/finalpage/2023-07-05/886284a1-1e71-4acb-ac9f-28d40fde7757.PDF', 'attachFormat': 'PDF', 'attachSize': 5796, 'secCode': ['002111'], 'secName': ['威海广泰'], 'bondType': None, 'bigIndustryCode': None, 'bigCategoryId': None, 'smallCategoryId': None, 'channelCode': None, '_index': 'ows_disclosure-20180825'}, {'id': 'c7583535-311d-46c3-8721-8045bfcc19f5', 'annId': 1217208770, 'title': '兔 宝 宝：2022年年度报告（更正后）', 'content': None, 'publishTime': '2023-07-05 00:00:00', 'attachPath': '/disc/disk03/finalpage/2023-07-05/64422dad-a223-4cfd-96ed-aa07b0d883ef.PDF', 'attachFormat': 'PDF', 'attachSize': 3304, 'secCode': ['002043'], 'secName': ['兔 宝 宝'], 'bondType': None, 'bigIndustryCode': None, 'bigCategoryId': None, 'smallCategoryId': None, 'channelCode': None, '_index': 'ows_disclosure-20180825'}, {'id': '624a35ce-b8f2-45b3-97fb-3b05cfbdffc9', 'annId': 1217208198, 'title': '深天马Ａ：2022年年度报告（更正后）', 'content': None, 'publishTime': '2023-07-05 00:00:00', 'attachPath': '/disc/disk03/finalpage/2023-07-05/399b3271-db90-4ec5-b8cd-a853e60f9cda.PDF', 'attachFormat': 'PDF', 'attachSize': 3774, 'secCode': ['000050'], 'secName': ['深天马Ａ'], 'bondType': None, 'bigIndustryCode': None, 'bigCategoryId': None, 'smallCategoryId': None, 'channelCode': None, '_index': 'ows_disclosure-20180825'}, {'id': 'dc2e50fb-348b-43c2-a68b-45f266980911', 'annId': 1217183957, 'title': '双枪科技：2022年年度报告（更新后）', 'content': None, 'publishTime': '2023-07-01 00:00:00', 'attachPath': '/disc/disk03/finalpage/2023-07-01/f7a9da13-128f-4e8e-9762-ba1b5d49fed3.PDF', 'attachFormat': 'PDF', 'attachSize': 3397, 'secCode': ['001211'], 'secName': ['双枪科技'], 'bondType': None, 'bigIndustryCode': None, 'bigCategoryId': None, 'smallCategoryId': None, 'channelCode': None, '_index': 'ows_disclosure-20180825'}, {'id': '42131200-9b9c-4950-a96f-b7416ef4f287', 'annId': 1217170465, 'title': 'ST摩登：2022年年度报告摘要', 'content': None, 'publishTime': '2023-06-30 00:00:00', 'attachPath': '/disc/disk03/finalpage/2023-06-30/4e5983ab-d2ec-4025-a950-cb7299aac892.PDF', 'attachFormat': 'PDF', 'attachSize': 926, 'secCode': ['002656'], 'secName': ['ST摩登'], 'bondType': None, 'bigIndustryCode': None, 'bigCategoryId': None, 'smallCategoryId': None, 'channelCode': None, '_index': 'ows_disclosure-20180825'}, {'id': '297d86bb-d5a4-4c9d-a923-d247419cdad2', 'annId': 1217170460, 'title': 'ST摩登：2022年年度报告', 'content': None, 'publishTime': '2023-06-30 00:00:00', 'attachPath': '/disc/disk03/finalpage/2023-06-30/4f73d57c-2d8a-4924-8fe4-f2c5ab47044f.PDF', 'attachFormat': 'PDF', 'attachSize': 4848, 'secCode': ['002656'], 'secName': ['ST摩登'], 'bondType': None, 'bigIndustryCode': None, 'bigCategoryId': None, 'smallCategoryId': None, 'channelCode': None, '_index': 'ows_disclosure-20180825'}, {'id': 'd5703786-3182-4354-8bc0-1195a951bcde', 'annId': 1217167836, 'title': 'ST华铁：2021年年度报告摘要（更正后）', 'content': None, 'publishTime': '2023-06-30 00:00:00', 'attachPath': '/disc/disk03/finalpage/2023-06-30/28ec671d-b1e6-48cc-8c27-232c4d61fba9.PDF', 'attachFormat': 'PDF', 'attachSize': 342, 'secCode': ['000976'], 'secName': ['ST华铁'], 'bondType': None, 'bigIndustryCode': None, 'bigCategoryId': None, 'smallCategoryId': None, 'channelCode': None, '_index': 'ows_disclosure-20180825'}, {'id': 'd0939b6a-9358-4228-8d82-6f0a94a2ba23', 'annId': 1217167838, 'title': 'ST华铁：2020年年度报告（更正后）', 'content': None, 'publishTime': '2023-06-30 00:00:00', 'attachPath': '/disc/disk03/finalpage/2023-06-30/8b04dc38-3f4b-47ba-952c-f0d8c6a02f29.PDF', 'attachFormat': 'PDF', 'attachSize': 7292, 'secCode': ['000976'], 'secName': ['ST华铁'], 'bondType': None, 'bigIndustryCode': None, 'bigCategoryId': None, 'smallCategoryId': None, 'channelCode': None, '_index': 'ows_disclosure-20180825'}, {'id': '88c10dc6-a5de-4d85-94d3-6332449403fb', 'annId': 1217167833, 'title': 'ST华铁：2020年年度报告摘要（更正后）', 'content': None, 'publishTime': '2023-06-30 00:00:00', 'attachPath': '/disc/disk03/finalpage/2023-06-30/b4204520-3a45-4252-b9b9-6407106a931d.PDF', 'attachFormat': 'PDF', 'attachSize': 1018, 'secCode': ['000976'], 'secName': ['ST华铁'], 'bondType': None, 'bigIndustryCode': None, 'bigCategoryId': None, 'smallCategoryId': None, 'channelCode': None, '_index': 'ows_disclosure-20180825'}, {'id': '2aab7f18-1eb2-4853-804d-0cd726961a5f', 'annId': 1217167834, 'title': 'ST华铁：2021年年度报告（更正后）', 'content': None, 'publishTime': '2023-06-30 00:00:00', 'attachPath': '/disc/disk03/finalpage/2023-06-30/b300f9ef-c85e-44d0-ad12-441d2dd50a7b.PDF', 'attachFormat': 'PDF', 'attachSize': 7826, 'secCode': ['000976'], 'secName': ['ST华铁'], 'bondType': None, 'bigIndustryCode': None, 'bigCategoryId': None, 'smallCategoryId': None, 'channelCode': None, '_index': 'ows_disclosure-20180825'}, {'id': '475d37ae-10d1-4b11-85e4-d37bb64f04f3', 'annId': 1217153714, 'title': '长江材料：2022年年度报告（更正后）', 'content': None, 'publishTime': '2023-06-29 00:00:00', 'attachPath': '/disc/disk03/finalpage/2023-06-29/c53054ac-682d-4010-bc74-c206a394dbff.PDF', 'attachFormat': 'PDF', 'attachSize': 4342, 'secCode': ['001296'], 'secName': ['长江材料'], 'bondType': None, 'bigIndustryCode': None, 'bigCategoryId': None, 'smallCategoryId': None, 'channelCode': None, '_index': 'ows_disclosure-20180825'}, {'id': '4a296aa7-c3dc-487c-b1bb-cda05ea9ecd1', 'annId': 1217146210, 'title': '中银绒业：宁夏中银绒业股份有限公司2022年年度报告 (更正后)', 'content': None, 'publishTime': '2023-06-28 00:00:00', 'attachPath': '/disc/disk03/finalpage/2023-06-28/193f98c9-d87b-400e-97b7-a30a7ca2e346.PDF', 'attachFormat': 'PDF', 'attachSize': 2951, 'secCode': ['000982'], 'secName': ['中银绒业'], 'bondType': None, 'bigIndustryCode': None, 'bigCategoryId': None, 'smallCategoryId': None, 'channelCode': None, '_index': 'ows_disclosure-20180825'}, {'id': '2a706076-57cd-4115-9c78-59ac1bf2eec8', 'annId': 1217143442, 'title': '青岛食品：2022年年度报告（更正后）', 'content': None, 'publishTime': '2023-06-28 00:00:00', 'attachPath': '/disc/disk03/finalpage/2023-06-28/9b2cafdb-95f7-4413-9c65-b2cad577e5c8.PDF', 'attachFormat': 'PDF', 'attachSize': 3532, 'secCode': ['001219'], 'secName': ['青岛食品'], 'bondType': None, 'bigIndustryCode': None, 'bigCategoryId': None, 'smallCategoryId': None, 'channelCode': None, '_index': 'ows_disclosure-20180825'}, {'id': 'b4822d7e-95f6-4d21-ba8c-4c698fdffd7f', 'annId': 1217140735, 'title': '正虹科技：2022年年度报告（更正后）', 'content': None, 'publishTime': '2023-06-27 00:00:00', 'attachPath': '/disc/disk03/finalpage/2023-06-27/da9c432f-7c16-4df6-a976-0eb4a90cb512.PDF', 'attachFormat': 'PDF', 'attachSize': 2757, 'secCode': ['000702'], 'secName': ['正虹科技'], 'bondType': None, 'bigIndustryCode': None, 'bigCategoryId': None, 'smallCategoryId': None, 'channelCode': None, '_index': 'ows_disclosure-20180825'}, {'id': 'd88ec5b1-7be8-43ed-8413-334ffd8e1142', 'annId': 1217115260, 'title': '伟隆股份：青岛伟隆阀门股份有限公司2022年年度报告(更新后）', 'content': None, 'publishTime': '2023-06-22 00:00:00', 'attachPath': '/disc/disk03/finalpage/2023-06-22/15a50b6f-6852-4100-82ce-5018246e5be3.PDF', 'attachFormat': 'PDF', 'attachSize': 2832, 'secCode': ['002871'], 'secName': ['伟隆股份'], 'bondType': None, 'bigIndustryCode': None, 'bigCategoryId': None, 'smallCategoryId': None, 'channelCode': None, '_index': 'ows_disclosure-20180825'}, {'id': '7be110e8-1fb5-4486-8379-0793506dd1a4', 'annId': 1217075733, 'title': '鸿合科技：2022年年度报告', 'content': None, 'publishTime': '2023-06-16 00:00:00', 'attachPath': '/disc/disk03/finalpage/2023-06-15/9ec6608c-22fc-4211-8c96-600927d7a026.PDF', 'attachFormat': 'PDF', 'attachSize': 5120, 'secCode': ['002955'], 'secName': ['鸿合科技'], 'bondType': None, 'bigIndustryCode': None, 'bigCategoryId': None, 'smallCategoryId': None, 'channelCode': None, '_index': 'ows_disclosure-20180825'}, {'id': '84e5ee69-94af-4780-b193-fd9fcd0699bb', 'annId': 1217074622, 'title': '万和电气：2022年年度报告（更新后）', 'content': None, 'publishTime': '2023-06-16 00:00:00', 'attachPath': '/disc/disk03/finalpage/2023-06-16/13077178-e201-4463-8556-85c1d80cb143.PDF', 'attachFormat': 'PDF', 'attachSize': 3117, 'secCode': ['002543'], 'secName': ['万和电气'], 'bondType': None, 'bigIndustryCode': None, 'bigCategoryId': None, 'smallCategoryId': None, 'channelCode': None, '_index': 'ows_disclosure-20180825'}, {'id': '3941f18b-a696-4186-9bd7-298e2e90ac13', 'annId': 1217074623, 'title': '万和电气：2022年年度报告（更新后）', 'content': None, 'publishTime': '2023-06-16 00:00:00', 'attachPath': '/disc/disk03/finalpage/2023-06-16/9fb44750-061b-4639-91e1-38aa0732b26e.PDF', 'attachFormat': 'PDF', 'attachSize': 1369, 'secCode': ['002543'], 'secName': ['万和电气'], 'bondType': None, 'bigIndustryCode': None, 'bigCategoryId': None, 'smallCategoryId': None, 'channelCode': None, '_index': 'ows_disclosure-20180825'}, {'id': '48fcff3a-75d8-489e-822a-56da6e0e2c2a', 'annId': 1217074868, 'title': '新宏泽：2022年年度报告（更新后）', 'content': None, 'publishTime': '2023-06-16 00:00:00', 'attachPath': '/disc/disk03/finalpage/2023-06-16/9ed340f4-ffe5-4cce-8c39-2a3e3f0de2ad.PDF', 'attachFormat': 'PDF', 'attachSize': 3439, 'secCode': ['002836'], 'secName': ['新宏泽'], 'bondType': None, 'bigIndustryCode': None, 'bigCategoryId': None, 'smallCategoryId': None, 'channelCode': None, '_index': 'ows_disclosure-20180825'}, {'id': '9cb1250b-cb2a-4230-ab73-2d023360d52b', 'annId': 1217073734, 'title': '帝欧家居：2022年年度报告（更新）', 'content': None, 'publishTime': '2023-06-16 00:00:00', 'attachPath': '/disc/disk03/finalpage/2023-06-16/e9c7ecda-7e52-4bda-a519-1d7544c5ef0f.PDF', 'attachFormat': 'PDF', 'attachSize': 3426, 'secCode': ['002798'], 'secName': ['帝欧家居'], 'bondType': None, 'bigIndustryCode': None, 'bigCategoryId': None, 'smallCategoryId': None, 'channelCode': None, '_index': 'ows_disclosure-20180825'}, {'id': '6fd755a1-d8b6-4e58-b803-89574bfb162e', 'annId': 1217066794, 'title': '*ST紫鑫：吉林紫鑫药业股份有限公司2022年年度报告（更正后）', 'content': None, 'publishTime': '2023-06-15 00:00:00', 'attachPath': '/disc/disk03/finalpage/2023-06-15/95ed4768-e095-4937-a067-95306174de68.PDF', 'attachFormat': 'PDF', 'attachSize': 5002, 'secCode': ['002118'], 'secName': ['*ST紫鑫'], 'bondType': None, 'bigIndustryCode': None, 'bigCategoryId': None, 'smallCategoryId': None, 'channelCode': None, '_index': 'ows_disclosure-20180825'}, {'id': 'dfda69f1-b3a2-484e-b2df-feb4c53ca34b', 'annId': 1217066287, 'title': '未名医药：2022年度报告（更正后）', 'content': None, 'publishTime': '2023-06-15 00:00:00', 'attachPath': '/disc/disk03/finalpage/2023-06-15/fd239b2d-030d-451c-adf6-e177c09d787b.PDF', 'attachFormat': 'PDF', 'attachSize': 4887, 'secCode': ['002581'], 'secName': ['未名医药'], 'bondType': None, 'bigIndustryCode': None, 'bigCategoryId': None, 'smallCategoryId': None, 'channelCode': None, '_index': 'ows_disclosure-20180825'}, {'id': '7bd564cb-684d-403e-93eb-e4677c3d7dba', 'annId': 1217051879, 'title': '五 粮 液：2022年度报告（英文版）', 'content': None, 'publishTime': '2023-06-14 00:00:00', 'attachPath': '/disc/disk03/finalpage/2023-06-14/d1fcd34c-5a75-4aa4-ba13-b505db6e8c28.PDF', 'attachFormat': 'PDF', 'attachSize': 3232, 'secCode': ['000858'], 'secName': ['五 粮 液'], 'bondType': None, 'bigIndustryCode': None, 'bigCategoryId': None, 'smallCategoryId': None, 'channelCode': None, '_index': 'ows_disclosure-20180825'}, {'id': 'ef5c816b-033b-46cd-91d4-73bdf6561c75', 'annId': 1217051234, 'title': '*ST太安：广东太安堂药业股份有限公司2022年年度报告（更正后）', 'content': None, 'publishTime': '2023-06-14 00:00:00', 'attachPath': '/disc/disk03/finalpage/2023-06-14/86d2e0aa-e707-41ce-b788-ae00fc34e067.PDF', 'attachFormat': 'PDF', 'attachSize': 3238, 'secCode': ['002433'], 'secName': ['*ST太安'], 'bondType': None, 'bigIndustryCode': None, 'bigCategoryId': None, 'smallCategoryId': None, 'channelCode': None, '_index': 'ows_disclosure-20180825'}, {'id': 'efdb7e64-c630-42cc-afdd-0fc4c6d12bf3', 'annId': 1217044399, 'title': '广州浪奇：2022年年度报告（更正后）', 'content': None, 'publishTime': '2023-06-13 00:00:00', 'attachPath': '/disc/disk03/finalpage/2023-06-13/4ac1baac-3c89-4d38-869c-310c4c06da28.PDF', 'attachFormat': 'PDF', 'attachSize': 1736, 'secCode': ['000523'], 'secName': ['广州浪奇'], 'bondType': None, 'bigIndustryCode': None, 'bigCategoryId': None, 'smallCategoryId': None, 'channelCode': None, '_index': 'ows_disclosure-20180825'}, {'id': '5558d307-a845-4033-8f66-0da1313309ab', 'annId': 1217042982, 'title': '洋河股份：2022年年度报告（英文版）', 'content': None, 'publishTime': '2023-06-13 00:00:00', 'attachPath': '/disc/disk03/finalpage/2023-06-13/1307a88d-2afa-47f1-b5d2-97671c355ba8.PDF', 'attachFormat': 'PDF', 'attachSize': 4836, 'secCode': ['002304'], 'secName': ['洋河股份'], 'bondType': None, 'bigIndustryCode': None, 'bigCategoryId': None, 'smallCategoryId': None, 'channelCode': None, '_index': 'ows_disclosure-20180825'}, {'id': '6d698674-ddd9-4b40-ab07-70ec068472b2', 'annId': 1217030209, 'title': '金浦钛业：金浦钛业股份有限公司2022年年度报告（更正后）', 'content': None, 'publishTime': '2023-06-10 00:00:00', 'attachPath': '/disc/disk03/finalpage/2023-06-10/289fa4dd-1baa-4727-8a26-b0a3ef068093.PDF', 'attachFormat': 'PDF', 'attachSize': 2956, 'secCode': ['000545'], 'secName': ['金浦钛业'], 'bondType': None, 'bigIndustryCode': None, 'bigCategoryId': None, 'smallCategoryId': None, 'channelCode': None, '_index': 'ows_disclosure-20180825'}, {'id': '81e6850c-de48-4f72-a163-9edbd4d2662e', 'annId': 1217030071, 'title': '鸿达兴业：2020年年度报告全文(更新后)', 'content': None, 'publishTime': '2023-06-10 00:00:00', 'attachPath': '/disc/disk03/finalpage/2023-06-10/53999a3a-fc49-490f-a70f-93db330a97ff.PDF', 'attachFormat': 'PDF', 'attachSize': 6078, 'secCode': ['002002'], 'secName': ['鸿达兴业'], 'bondType': None, 'bigIndustryCode': None, 'bigCategoryId': None, 'smallCategoryId': None, 'channelCode': None, '_index': 'ows_disclosure-20180825'}, {'id': '51c24210-4849-4715-9f66-68b5ab97aea4', 'annId': 1217030073, 'title': '鸿达兴业：2021年年度报告全文(更新后)', 'content': None, 'publishTime': '2023-06-10 00:00:00', 'attachPath': '/disc/disk03/finalpage/2023-06-10/5f98327f-c568-4b1f-8b9d-6cbd6dcbcf00.PDF', 'attachFormat': 'PDF', 'attachSize': 7125, 'secCode': ['002002'], 'secName': ['鸿达兴业'], 'bondType': None, 'bigIndustryCode': None, 'bigCategoryId': None, 'smallCategoryId': None, 'channelCode': None, '_index': 'ows_disclosure-20180825'}, {'id': 'e464df93-6b5b-4b01-b2d0-65f7ad08be3a', 'annId': 1217027652, 'title': '金安国纪：2022年年度报告（补充后）', 'content': None, 'publishTime': '2023-06-10 00:00:00', 'attachPath': '/disc/disk03/finalpage/2023-06-10/895010ca-eb15-4a21-a743-86ed8a6ead55.PDF', 'attachFormat': 'PDF', 'attachSize': 2732, 'secCode': ['002636'], 'secName': ['金安国纪'], 'bondType': None, 'bigIndustryCode': None, 'bigCategoryId': None, 'smallCategoryId': None, 'channelCode': None, '_index': 'ows_disclosure-20180825'}, {'id': '12c0407d-ac9e-435c-98d3-5e82a5c42aac', 'annId': 1217027655, 'title': '纳尔股份：上海纳尔实业股份有限公司2022年年度报告（更新后）', 'content': None, 'publishTime': '2023-06-10 00:00:00', 'attachPath': '/disc/disk03/finalpage/2023-06-10/552c506d-1a78-4464-8bf7-89c7f664bf40.PDF', 'attachFormat': 'PDF', 'attachSize': 4616, 'secCode': ['002825'], 'secName': ['纳尔股份'], 'bondType': None, 'bigIndustryCode': None, 'bigCategoryId': None, 'smallCategoryId': None, 'channelCode': None, '_index': 'ows_disclosure-20180825'}, {'id': '7ab663de-f2b2-4f28-8acb-452f1cd40a33', 'annId': 1217024578, 'title': '歌尔股份：2022年年度报告（英文版）', 'content': None, 'publishTime': '2023-06-09 00:00:00', 'attachPath': '/disc/disk03/finalpage/2023-06-09/923cd0db-b71f-45fd-95e6-a9a2c9c459c7.PDF', 'attachFormat': 'PDF', 'attachSize': 3260, 'secCode': ['002241'], 'secName': ['歌尔股份'], 'bondType': None, 'bigIndustryCode': None, 'bigCategoryId': None, 'smallCategoryId': None, 'channelCode': None, '_index': 'ows_disclosure-20180825'}, {'id': '04caa544-b681-4fe6-b85f-dc216adce02f', 'annId': 1217023385, 'title': '景峰医药：2022年年度报告（更新后）', 'content': None, 'publishTime': '2023-06-09 00:00:00', 'attachPath': '/disc/disk03/finalpage/2023-06-09/43b19b83-8bee-4b03-afde-85f16e96fcab.PDF', 'attachFormat': 'PDF', 'attachSize': 4579, 'secCode': ['000908'], 'secName': ['景峰医药'], 'bondType': None, 'bigIndustryCode': None, 'bigCategoryId': None, 'smallCategoryId': None, 'channelCode': None, '_index': 'ows_disclosure-20180825'}, {'id': '7cd50240-9088-44f5-a3b7-c30b95549376', 'annId': 1217023109, 'title': '*ST御银：2022年年度报告（更新后）', 'content': None, 'publishTime': '2023-06-09 00:00:00', 'attachPath': '/disc/disk03/finalpage/2023-06-09/16595ce3-fd02-4f81-a04d-3de6f44c3532.PDF', 'attachFormat': 'PDF', 'attachSize': 3944, 'secCode': ['002177'], 'secName': ['*ST御银'], 'bondType': None, 'bigIndustryCode': None, 'bigCategoryId': None, 'smallCategoryId': None, 'channelCode': None, '_index': 'ows_disclosure-20180825'}, {'id': '4b832dc3-111d-4ebe-b64e-0ee22fe487f2', 'annId': 1217023111, 'title': '*ST御银：2021年年度报告全文（更新后）', 'content': None, 'publishTime': '2023-06-09 00:00:00', 'attachPath': '/disc/disk03/finalpage/2023-06-09/09a04c2d-2109-45d4-b75b-26c3ffb748ab.PDF', 'attachFormat': 'PDF', 'attachSize': 3750, 'secCode': ['002177'], 'secName': ['*ST御银'], 'bondType': None, 'bigIndustryCode': None, 'bigCategoryId': None, 'smallCategoryId': None, 'channelCode': None, '_index': 'ows_disclosure-20180825'}, {'id': 'f7dd0f5e-e39c-4e9a-a833-229610daac72', 'annId': 1217022056, 'title': '格力电器：2022年年度报告(英文版)', 'content': None, 'publishTime': '2023-06-09 00:00:00', 'attachPath': '/disc/disk03/finalpage/2023-06-09/475075a0-555d-4b47-ab83-a42073360a8e.PDF', 'attachFormat': 'PDF', 'attachSize': 2119, 'secCode': ['000651'], 'secName': ['格力电器'], 'bondType': None, 'bigIndustryCode': None, 'bigCategoryId': None, 'smallCategoryId': None, 'channelCode': None, '_index': 'ows_disclosure-20180825'}, {'id': '59d4e27b-2b98-4f16-818e-3c48758efb6e', 'annId': 1217013099, 'title': '海大集团：2022年年度报告（英文版）', 'content': None, 'publishTime': '2023-06-08 00:00:00', 'attachPath': '/disc/disk03/finalpage/2023-06-08/10f90e20-d5b2-4c12-afd1-0ddf7dee5c1c.PDF', 'attachFormat': 'PDF', 'attachSize': 7147, 'secCode': ['002311'], 'secName': ['海大集团'], 'bondType': None, 'bigIndustryCode': None, 'bigCategoryId': None, 'smallCategoryId': None, 'channelCode': None, '_index': 'ows_disclosure-20180825'}, {'id': 'c829961f-a959-4f68-92c0-923e49a1c986', 'annId': 1217010823, 'title': '*ST太安：广东太安堂药业股份有限公司2022年年度报告（更正后）', 'content': None, 'publishTime': '2023-06-08 00:00:00', 'attachPath': '/disc/disk03/finalpage/2023-06-08/9a836601-8056-4c8a-bbaf-c496ea918632.PDF', 'attachFormat': 'PDF', 'attachSize': 3238, 'secCode': ['002433'], 'secName': ['*ST太安'], 'bondType': None, 'bigIndustryCode': None, 'bigCategoryId': None, 'smallCategoryId': None, 'channelCode': None, '_index': 'ows_disclosure-20180825'}]}\n"
     ]
    }
   ],
   "source": [
    "print(res)"
   ]
  },
  {
   "cell_type": "code",
   "execution_count": 13,
   "id": "3fba7f72",
   "metadata": {},
   "outputs": [
    {
     "name": "stdout",
     "output_type": "stream",
     "text": [
      "84651a6b-59ec-4ff9-8ec6-e2ac4abc43d2\n"
     ]
    }
   ],
   "source": [
    "announcement=res\n",
    "print(announcement['data'][0]['id'])\n"
   ]
  },
  {
   "cell_type": "code",
   "execution_count": 14,
   "id": "ed3ad02c",
   "metadata": {},
   "outputs": [
    {
     "name": "stdout",
     "output_type": "stream",
     "text": [
      "['https://www.szse.cn/api/disc/info/download?id=84651a6b-59ec-4ff9-8ec6-e2ac4abc43d2', 'https://www.szse.cn/api/disc/info/download?id=6ea007f9-3dea-439e-b085-12f13c7467f9', 'https://www.szse.cn/api/disc/info/download?id=43cc555b-0cbb-4d92-ad10-09c07f49afa3'] ['赛象科技：2022年年度报告（更正后）', '威领股份：2022年年度报告（更正后）', '众泰汽车：众泰汽车股份有限公司2022年年度报告']\n"
     ]
    }
   ],
   "source": [
    "title_list=[]\n",
    "links=[]\n",
    "download_link='https://www.szse.cn/api/disc/info/download?id='\n",
    "\n",
    "for i in range(len(announcement['data'])):\n",
    "    title_list.append(announcement['data'][i]['title'])\n",
    "    links.append(download_link+announcement['data'][i]['id'])\n",
    "\n",
    "print(links[:3],title_list[:3])"
   ]
  },
  {
   "cell_type": "code",
   "execution_count": 15,
   "id": "38fbfb2c",
   "metadata": {},
   "outputs": [
    {
     "data": {
      "text/plain": [
       "50"
      ]
     },
     "execution_count": 15,
     "metadata": {},
     "output_type": "execute_result"
    }
   ],
   "source": [
    "len(links)"
   ]
  },
  {
   "cell_type": "code",
   "execution_count": 16,
   "id": "3148f396",
   "metadata": {},
   "outputs": [
    {
     "name": "stdout",
     "output_type": "stream",
     "text": [
      ">> Downloading 100.0%\n",
      "下载完毕\n"
     ]
    }
   ],
   "source": [
    "# 下载链接\n",
    "\n",
    "save_location='./PDF'\n",
    "\n",
    "for url,index in zip(links,range(len(links))):\n",
    "    \n",
    "    filename=title_list[index]+'.pdf'\n",
    "    save_path=os.path.join(save_location,filename)\n",
    "    urllib.request.urlretrieve(url,save_path)\n",
    "    sys.stdout.write('\\r>> Downloading %.1f%%' % (float(index + 1) / float(len(links)) * 100.0))\n",
    "    sys.stdout.flush()\n",
    "\n",
    "print('\\n下载完毕')\n"
   ]
  },
  {
   "cell_type": "code",
   "execution_count": null,
   "id": "987f4618",
   "metadata": {},
   "outputs": [],
   "source": []
  }
 ],
 "metadata": {
  "kernelspec": {
   "display_name": "Python 3 (ipykernel)",
   "language": "python",
   "name": "python3"
  },
  "language_info": {
   "codemirror_mode": {
    "name": "ipython",
    "version": 3
   },
   "file_extension": ".py",
   "mimetype": "text/x-python",
   "name": "python",
   "nbconvert_exporter": "python",
   "pygments_lexer": "ipython3",
   "version": "3.11.5"
  }
 },
 "nbformat": 4,
 "nbformat_minor": 5
}
